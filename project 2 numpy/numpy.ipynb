{
 "cells": [
  {
   "cell_type": "code",
   "execution_count": 2,
   "id": "608c22bc",
   "metadata": {},
   "outputs": [],
   "source": [
    "import numpy as np\n",
    "\n",
    "data = [\n",
    "    [\"month\", \"week\", \"day\", \"min_temp\", \"max_temp\"],\n",
    "    [\"november\", \"week 1\", \"monday\", 13, 27],\n",
    "    [\"november\", \"week 1\", \"tuesday\", 12, 26],\n",
    "    [\"november\", \"week 1\", \"wednesday\", 10, 25],\n",
    "    [\"november\", \"week 1\", \"thursday\", 14, 28],\n",
    "    [\"november\", \"week 1\", \"friday\", 7, 30],\n",
    "    [\"november\", \"week 1\", \"saturday\", 8, 29],\n",
    "    [\"november\", \"week 1\", \"sunday\", 11, 24],\n",
    "    [\"november\", \"week 2\", \"monday\", 12, 26],\n",
    "    [\"november\", \"week 2\", \"tuesday\", 11, 25],\n",
    "    [\"november\", \"week 2\", \"wednesday\", 9, 23],\n",
    "    [\"november\", \"week 2\", \"thursday\", 13, 28],\n",
    "    [\"november\", \"week 2\", \"friday\", 7, 30],\n",
    "    [\"november\", \"week 2\", \"saturday\", 8, 29],\n",
    "    [\"november\", \"week 2\", \"sunday\", 10, 24],\n",
    "    [\"november\", \"week 3\", \"monday\", 11, 26],\n",
    "    [\"november\", \"week 3\", \"tuesday\", 10, 25],\n",
    "    [\"november\", \"week 3\", \"wednesday\", 8, 23],\n",
    "    [\"november\", \"week 3\", \"thursday\", 12, 27],\n",
    "    [\"november\", \"week 3\", \"friday\", 6, 29],\n",
    "    [\"november\", \"week 3\", \"saturday\", 7, 28],\n",
    "    [\"november\", \"week 3\", \"sunday\", 9, 22],\n",
    "    [\"november\", \"week 4\", \"monday\", 10, 24],\n",
    "    [\"november\", \"week 4\", \"tuesday\", 9, 23],\n",
    "    [\"november\", \"week 4\", \"wednesday\", 7, 22],\n",
    "    [\"november\", \"week 4\", \"thursday\", 11, 25],\n",
    "    [\"november\", \"week 4\", \"friday\", 5, 28],\n",
    "    [\"november\", \"week 4\", \"saturday\", 6, 27],\n",
    "    [\"november\", \"week 4\", \"sunday\", 8, 21],\n",
    "    [\"december\", \"week 1\", \"monday\", 9, 22],\n",
    "    [\"december\", \"week 1\", \"tuesday\", 8, 21],\n",
    "    [\"december\", \"week 1\", \"wednesday\", 6, 20],\n",
    "    [\"december\", \"week 1\", \"thursday\", 10, 23],\n",
    "    [\"december\", \"week 1\", \"friday\", 4, 26],\n",
    "    [\"december\", \"week 1\", \"saturday\", 5, 25],\n",
    "    [\"december\", \"week 1\", \"sunday\", 7, 19],\n",
    "    [\"december\", \"week 2\", \"monday\", 8, 22],\n",
    "    [\"december\", \"week 2\", \"tuesday\", 7, 21],\n",
    "    [\"december\", \"week 2\", \"wednesday\", 5, 20],\n",
    "    [\"december\", \"week 2\", \"thursday\", 9, 23],\n",
    "    [\"december\", \"week 2\", \"friday\", 3, 26],\n",
    "    [\"december\", \"week 2\", \"saturday\", 4, 25],\n",
    "    [\"december\", \"week 2\", \"sunday\", 6, 19],\n",
    "    [\"december\", \"week 3\", \"monday\", 7, 22],\n",
    "    [\"december\", \"week 3\", \"tuesday\", 6, 21],\n",
    "    [\"december\", \"week 3\", \"wednesday\", 4, 20],\n",
    "    [\"december\", \"week 3\", \"thursday\", 8, 23],\n",
    "    [\"december\", \"week 3\", \"friday\", 2, 26],\n",
    "    [\"december\", \"week 3\", \"saturday\", 3, 25],\n",
    "    [\"december\", \"week 3\", \"sunday\", 5, 19],\n",
    "    [\"december\", \"week 4\", \"monday\", 6, 22],\n",
    "    [\"december\", \"week 4\", \"tuesday\", 5, 21],\n",
    "    [\"december\", \"week 4\", \"wednesday\", 3, 20],\n",
    "    [\"december\", \"week 4\", \"thursday\", 7, 23],\n",
    "    [\"december\", \"week 4\", \"friday\", 1, 26],\n",
    "    [\"december\", \"week 4\", \"saturday\", 2, 25],\n",
    "    [\"december\", \"week 4\", \"sunday\", 4, 19],\n",
    "    [\"january\", \"week 1\", \"monday\", 5, 22],\n",
    "    [\"january\", \"week 1\", \"tuesday\", 4, 21],\n",
    "    [\"january\", \"week 1\", \"wednesday\", 2, 20],\n",
    "    [\"january\", \"week 1\", \"thursday\", 6, 23],\n",
    "    [\"january\", \"week 1\", \"friday\", 0, 26],\n",
    "    [\"january\", \"week 1\", \"saturday\", 1, 25],\n",
    "    [\"january\", \"week 1\", \"sunday\", 3, 19],\n",
    "    [\"january\", \"week 2\", \"monday\", 4, 22],\n",
    "    [\"january\", \"week 2\", \"tuesday\", 3, 21],\n",
    "    [\"january\", \"week 2\", \"wednesday\", 1, 20],\n",
    "    [\"january\", \"week 2\", \"thursday\", 5, 23],\n",
    "    [\"january\", \"week 2\", \"friday\", -1, 26],\n",
    "    [\"january\", \"week 2\", \"saturday\", 0, 25],\n",
    "    [\"january\", \"week 2\", \"sunday\", 2, 19],\n",
    "    [\"january\", \"week 3\", \"monday\", 3, 22],\n",
    "    [\"january\", \"week 3\", \"tuesday\", 2, 21],\n",
    "    [\"january\", \"week 3\", \"wednesday\", 0, 20],\n",
    "    [\"january\", \"week 3\", \"thursday\", 4, 23],\n",
    "    [\"january\", \"week 3\", \"friday\", -2, 26],\n",
    "    [\"january\", \"week 3\", \"saturaday\",8, 22],\n",
    "    [\"january\", \"week 3\", \"sunday\",8, 22],\n",
    "    [\"february\",\"week 1\", \"monday\",11, 19],\n",
    "    [\"february\",\"week 1\", \"tuesday\",11, 19],\n",
    "    [\"february\",\"week 1\", \"wednesday\",11, 19],\n",
    "    [\"february\",\"week 1\", \"thursday\",10, 18],\n",
    "    [\"february\",\"week 1\", \"friday\",7, 20],\n",
    "    [\"february\",\"week 1\", \"saturday\",8, 21],\n",
    "    [\"february\",\"week 1\", \"sunday\",9, 18],\n",
    "    [\"february\",\"week 2\", \"monday\",11, 20],\n",
    "    [\"february\",\"week 2\", \"tuesday\",14, 22],\n",
    "    [\"february\",\"week 2\", \"wednesday\",11, 21],\n",
    "    [\"february\",\"week 2\", \"thursday\",12, 18],\n",
    "    [\"february\",\"week 2\", \"friday\",10, 17],\n",
    "    [\"february\",\"week 2\", \"saturday\",8, 19],\n",
    "    [\"february\",\"week 2\", \"sunday\",17, 22],\n",
    "    [\"february\",\"week 3\", \"monday\",10, 20],\n",
    "    [\"february\",\"week 3\", \"tuesday\",5, 18],\n",
    "    [\"february\",\"week 3\", \"wednesday\",9, 20],\n",
    "    [\"february\",\"week 3\", \"thursday\",11, 23],\n",
    "    [\"february\",\"week 3\", \"friday\",10, 18],\n",
    "    [\"february\",\"week 3\", \"saturday\",6, 16],\n",
    "    [\"february\",\"week 3\", \"sunday\",8, 18],\n",
    "    [\"february\",\"week 4\", \"monday\",3, 19],\n",
    "    [\"february\",\"week 4\", \"tuesday\",7, 18],\n",
    "    [\"february\",\"week 4\", \"wednesday\",14, 23],\n",
    "    [\"february\",\"week 4\", \"thursday\",12, 20],\n",
    "    [\"february\",\"week 4\", \"friday\",4, 13],\n",
    "    [\"february\",\"week 4\", \"saturday\",11, 25],\n",
    "    [\"february\",\"week 4\", \"sunday\",15, 26],\n",
    "]"
   ]
  },
  {
   "cell_type": "code",
   "execution_count": 3,
   "id": "8dd254a0",
   "metadata": {},
   "outputs": [
    {
     "name": "stdout",
     "output_type": "stream",
     "text": [
      "Dimensions: (105, 5)\n",
      "Shape: (105, 5)\n"
     ]
    }
   ],
   "source": [
    "# Convert data to a numpy array\n",
    "data_array = np.array(data[1:])  # Skip the headers\n",
    "\n",
    "# Task: 2\n",
    "dimensions = data_array.shape\n",
    "print(\"Dimensions:\", dimensions)\n",
    "print(\"Shape:\", data_array.shape)"
   ]
  },
  {
   "cell_type": "code",
   "execution_count": 4,
   "id": "ebefe03b",
   "metadata": {},
   "outputs": [
    {
     "name": "stdout",
     "output_type": "stream",
     "text": [
      "Month: november, Week: week 1, Day: monday, Min Temp: 13, Max Temp: 27\n",
      "Month: november, Week: week 1, Day: tuesday, Min Temp: 12, Max Temp: 26\n",
      "Month: november, Week: week 1, Day: wednesday, Min Temp: 10, Max Temp: 25\n",
      "Month: november, Week: week 1, Day: thursday, Min Temp: 14, Max Temp: 28\n",
      "Month: november, Week: week 1, Day: friday, Min Temp: 7, Max Temp: 30\n",
      "Month: november, Week: week 1, Day: saturday, Min Temp: 8, Max Temp: 29\n",
      "Month: november, Week: week 1, Day: sunday, Min Temp: 11, Max Temp: 24\n",
      "Month: december, Week: week 1, Day: monday, Min Temp: 9, Max Temp: 22\n",
      "Month: december, Week: week 1, Day: tuesday, Min Temp: 8, Max Temp: 21\n",
      "Month: december, Week: week 1, Day: wednesday, Min Temp: 6, Max Temp: 20\n",
      "Month: december, Week: week 1, Day: thursday, Min Temp: 10, Max Temp: 23\n",
      "Month: december, Week: week 1, Day: friday, Min Temp: 4, Max Temp: 26\n",
      "Month: december, Week: week 1, Day: saturday, Min Temp: 5, Max Temp: 25\n",
      "Month: december, Week: week 1, Day: sunday, Min Temp: 7, Max Temp: 19\n",
      "Month: january, Week: week 1, Day: monday, Min Temp: 5, Max Temp: 22\n",
      "Month: january, Week: week 1, Day: tuesday, Min Temp: 4, Max Temp: 21\n",
      "Month: january, Week: week 1, Day: wednesday, Min Temp: 2, Max Temp: 20\n",
      "Month: january, Week: week 1, Day: thursday, Min Temp: 6, Max Temp: 23\n",
      "Month: january, Week: week 1, Day: friday, Min Temp: 0, Max Temp: 26\n",
      "Month: january, Week: week 1, Day: saturday, Min Temp: 1, Max Temp: 25\n",
      "Month: january, Week: week 1, Day: sunday, Min Temp: 3, Max Temp: 19\n",
      "Month: february, Week: week 1, Day: monday, Min Temp: 11, Max Temp: 19\n",
      "Month: february, Week: week 1, Day: tuesday, Min Temp: 11, Max Temp: 19\n",
      "Month: february, Week: week 1, Day: wednesday, Min Temp: 11, Max Temp: 19\n",
      "Month: february, Week: week 1, Day: thursday, Min Temp: 10, Max Temp: 18\n",
      "Month: february, Week: week 1, Day: friday, Min Temp: 7, Max Temp: 20\n",
      "Month: february, Week: week 1, Day: saturday, Min Temp: 8, Max Temp: 21\n",
      "Month: february, Week: week 1, Day: sunday, Min Temp: 9, Max Temp: 18\n"
     ]
    }
   ],
   "source": [
    "# Task 3: \n",
    "for row in data_array:\n",
    "    month, week, day, min_temp, max_temp = row\n",
    "    if week == \"week 1\":\n",
    "        print(f\"Month: {month}, Week: {week}, Day: {day}, Min Temp: {min_temp}, Max Temp: {max_temp}\")"
   ]
  },
  {
   "cell_type": "code",
   "execution_count": 5,
   "id": "9d44c3d9",
   "metadata": {},
   "outputs": [
    {
     "name": "stdout",
     "output_type": "stream",
     "text": [
      "Month: november, Week: week 1, Day: tuesday, Min Temp: 12, Max Temp: 26\n",
      "Month: november, Week: week 2, Day: tuesday, Min Temp: 11, Max Temp: 25\n",
      "Month: november, Week: week 3, Day: tuesday, Min Temp: 10, Max Temp: 25\n",
      "Month: november, Week: week 4, Day: tuesday, Min Temp: 9, Max Temp: 23\n",
      "Month: december, Week: week 1, Day: tuesday, Min Temp: 8, Max Temp: 21\n",
      "Month: december, Week: week 2, Day: tuesday, Min Temp: 7, Max Temp: 21\n",
      "Month: december, Week: week 3, Day: tuesday, Min Temp: 6, Max Temp: 21\n",
      "Month: december, Week: week 4, Day: tuesday, Min Temp: 5, Max Temp: 21\n",
      "Month: january, Week: week 1, Day: tuesday, Min Temp: 4, Max Temp: 21\n",
      "Month: january, Week: week 2, Day: tuesday, Min Temp: 3, Max Temp: 21\n",
      "Month: january, Week: week 3, Day: tuesday, Min Temp: 2, Max Temp: 21\n",
      "Month: february, Week: week 1, Day: tuesday, Min Temp: 11, Max Temp: 19\n",
      "Month: february, Week: week 2, Day: tuesday, Min Temp: 14, Max Temp: 22\n",
      "Month: february, Week: week 3, Day: tuesday, Min Temp: 5, Max Temp: 18\n",
      "Month: february, Week: week 4, Day: tuesday, Min Temp: 7, Max Temp: 18\n"
     ]
    }
   ],
   "source": [
    "# Task 4: \n",
    "for row in data_array:\n",
    "    month, week, day, min_temp, max_temp = row\n",
    "    if day == \"tuesday\":\n",
    "        print(f\"Month: {month}, Week: {week}, Day: {day}, Min Temp: {min_temp}, Max Temp: {max_temp}\")\n"
   ]
  },
  {
   "cell_type": "code",
   "execution_count": 6,
   "id": "eb1077c7",
   "metadata": {},
   "outputs": [
    {
     "name": "stdout",
     "output_type": "stream",
     "text": [
      "Month: december, Day: monday, Max Temp: 22\n",
      "Month: december, Day: tuesday, Max Temp: 21\n",
      "Month: december, Day: wednesday, Max Temp: 20\n",
      "Month: december, Day: thursday, Max Temp: 23\n",
      "Month: december, Day: friday, Max Temp: 26\n",
      "Month: december, Day: monday, Max Temp: 22\n",
      "Month: december, Day: tuesday, Max Temp: 21\n",
      "Month: december, Day: wednesday, Max Temp: 20\n",
      "Month: december, Day: thursday, Max Temp: 23\n",
      "Month: december, Day: friday, Max Temp: 26\n",
      "Month: december, Day: monday, Max Temp: 22\n",
      "Month: december, Day: tuesday, Max Temp: 21\n",
      "Month: december, Day: wednesday, Max Temp: 20\n",
      "Month: december, Day: thursday, Max Temp: 23\n",
      "Month: december, Day: friday, Max Temp: 26\n",
      "Month: december, Day: monday, Max Temp: 22\n",
      "Month: december, Day: tuesday, Max Temp: 21\n",
      "Month: december, Day: wednesday, Max Temp: 20\n",
      "Month: december, Day: thursday, Max Temp: 23\n",
      "Month: december, Day: friday, Max Temp: 26\n",
      "Month: february, Day: monday, Max Temp: 19\n",
      "Month: february, Day: tuesday, Max Temp: 19\n",
      "Month: february, Day: wednesday, Max Temp: 19\n",
      "Month: february, Day: thursday, Max Temp: 18\n",
      "Month: february, Day: friday, Max Temp: 20\n",
      "Month: february, Day: monday, Max Temp: 20\n",
      "Month: february, Day: tuesday, Max Temp: 22\n",
      "Month: february, Day: wednesday, Max Temp: 21\n",
      "Month: february, Day: thursday, Max Temp: 18\n",
      "Month: february, Day: friday, Max Temp: 17\n",
      "Month: february, Day: monday, Max Temp: 20\n",
      "Month: february, Day: tuesday, Max Temp: 18\n",
      "Month: february, Day: wednesday, Max Temp: 20\n",
      "Month: february, Day: thursday, Max Temp: 23\n",
      "Month: february, Day: friday, Max Temp: 18\n",
      "Month: february, Day: monday, Max Temp: 19\n",
      "Month: february, Day: tuesday, Max Temp: 18\n",
      "Month: february, Day: wednesday, Max Temp: 23\n",
      "Month: february, Day: thursday, Max Temp: 20\n",
      "Month: february, Day: friday, Max Temp: 13\n"
     ]
    }
   ],
   "source": [
    "# Task 5: \n",
    "for row in data_array:\n",
    "    month, week, day, min_temp, max_temp = row\n",
    "    if month in [\"december\", \"february\"] and day != \"sunday\" and day != \"saturday\":\n",
    "        print(f\"Month: {month}, Day: {day}, Max Temp: {max_temp}\")"
   ]
  },
  {
   "cell_type": "code",
   "execution_count": 7,
   "id": "3eb919ca",
   "metadata": {},
   "outputs": [
    {
     "name": "stdout",
     "output_type": "stream",
     "text": [
      "Month: november, Week: week 1, Day: friday, Min Temp: 7, Max Temp: 30\n",
      "Month: november, Week: week 2, Day: friday, Min Temp: 7, Max Temp: 30\n",
      "Month: november, Week: week 3, Day: friday, Min Temp: 6, Max Temp: 29\n",
      "Month: november, Week: week 3, Day: saturday, Min Temp: 7, Max Temp: 28\n",
      "Month: november, Week: week 4, Day: wednesday, Min Temp: 7, Max Temp: 22\n",
      "Month: november, Week: week 4, Day: friday, Min Temp: 5, Max Temp: 28\n",
      "Month: november, Week: week 4, Day: saturday, Min Temp: 6, Max Temp: 27\n"
     ]
    }
   ],
   "source": [
    "# Task 6: \n",
    "for row in data_array:\n",
    "    month, week, day, min_temp, max_temp = row\n",
    "    min_temp = int(min_temp)  # Convert min_temp to integer\n",
    "    if month == \"november\" and min_temp < 8:\n",
    "        print(f\"Month: {month}, Week: {week}, Day: {day}, Min Temp: {min_temp}, Max Temp: {max_temp}\")"
   ]
  },
  {
   "cell_type": "code",
   "execution_count": 8,
   "id": "39dbd77c",
   "metadata": {},
   "outputs": [
    {
     "name": "stdout",
     "output_type": "stream",
     "text": [
      "Month: december, Week: week 1, Max Temp: 22\n",
      "Month: december, Week: week 1, Max Temp: 21\n",
      "Month: december, Week: week 1, Max Temp: 23\n",
      "Month: december, Week: week 1, Max Temp: 26\n",
      "Month: december, Week: week 1, Max Temp: 25\n",
      "Month: december, Week: week 2, Max Temp: 22\n",
      "Month: december, Week: week 2, Max Temp: 21\n",
      "Month: december, Week: week 2, Max Temp: 23\n",
      "Month: december, Week: week 2, Max Temp: 26\n",
      "Month: december, Week: week 2, Max Temp: 25\n",
      "Month: december, Week: week 3, Max Temp: 22\n",
      "Month: december, Week: week 3, Max Temp: 21\n",
      "Month: december, Week: week 3, Max Temp: 23\n",
      "Month: december, Week: week 3, Max Temp: 26\n",
      "Month: december, Week: week 3, Max Temp: 25\n",
      "Month: december, Week: week 4, Max Temp: 22\n",
      "Month: december, Week: week 4, Max Temp: 21\n",
      "Month: december, Week: week 4, Max Temp: 23\n",
      "Month: december, Week: week 4, Max Temp: 26\n",
      "Month: december, Week: week 4, Max Temp: 25\n",
      "Month: january, Week: week 1, Max Temp: 22\n",
      "Month: january, Week: week 1, Max Temp: 21\n",
      "Month: january, Week: week 1, Max Temp: 23\n",
      "Month: january, Week: week 1, Max Temp: 26\n",
      "Month: january, Week: week 1, Max Temp: 25\n",
      "Month: january, Week: week 2, Max Temp: 22\n",
      "Month: january, Week: week 2, Max Temp: 21\n",
      "Month: january, Week: week 2, Max Temp: 23\n",
      "Month: january, Week: week 2, Max Temp: 26\n",
      "Month: january, Week: week 2, Max Temp: 25\n",
      "Month: january, Week: week 3, Max Temp: 22\n",
      "Month: january, Week: week 3, Max Temp: 21\n",
      "Month: january, Week: week 3, Max Temp: 23\n",
      "Month: january, Week: week 3, Max Temp: 26\n",
      "Month: january, Week: week 3, Max Temp: 22\n",
      "Month: january, Week: week 3, Max Temp: 22\n"
     ]
    }
   ],
   "source": [
    "#Task: 7\n",
    "for row in data_array:\n",
    "    month, week, day, min_temp, max_temp = row\n",
    "    max_temp = int(max_temp)\n",
    "    if month in [\"december\", \"january\"] and max_temp > 20:\n",
    "        print(f\"Month: {month}, Week: {week}, Max Temp: {max_temp}\")\n"
   ]
  },
  {
   "cell_type": "code",
   "execution_count": null,
   "id": "8cb85b1e",
   "metadata": {},
   "outputs": [],
   "source": [
    "# Task 8\n",
    "min_temp_range = (-30, 40) \n",
    "max_temp_range = (-30, 40)  \n",
    "\n",
    "absurd_values = []\n",
    "for row in data[1:]:  \n",
    "    min_temp = int(row[3])\n",
    "    max_temp = int(row[4])\n",
    "    \n",
    "    if min_temp < min_temp_range[0] or min_temp > min_temp_range[1]:\n",
    "        absurd_values.append((row[0], row[2], \"min_temp\", min_temp))\n",
    "    \n",
    "    if max_temp < max_temp_range[0] or max_temp > max_temp_range[1]:\n",
    "        absurd_values.append((row[0], row[2], \"max_temp\", max_temp))\n",
    "\n",
    "# Print any absurd values\n",
    "if absurd_values:\n",
    "    print(\"Absurd values found:\")\n",
    "    for absurd_value in absurd_values:\n",
    "        print(f\"Month: {absurd_value[0]}, Day: {absurd_value[1]}, Type: {absurd_value[2]}, Value: {absurd_value[3]}\")\n",
    "else:\n",
    "    print(\"No absurd values found.\")"
   ]
  },
  {
   "cell_type": "code",
   "execution_count": 9,
   "id": "c62de86c",
   "metadata": {},
   "outputs": [
    {
     "name": "stdout",
     "output_type": "stream",
     "text": [
      "Average Max Temp for Winter Months: 22.285714285714285\n"
     ]
    }
   ],
   "source": [
    "#Task: 12\n",
    "winter_months = [\"december\", \"january\"]\n",
    "winter_max_temps = [int(row[4]) for row in data_array if row[0] in winter_months]\n",
    "average_winter_max_temp = sum(winter_max_temps) / len(winter_max_temps)\n",
    "print(\"Average Max Temp for Winter Months:\", average_winter_max_temp)\n"
   ]
  },
  {
   "cell_type": "code",
   "execution_count": 10,
   "id": "a869a2d8",
   "metadata": {},
   "outputs": [
    {
     "name": "stdout",
     "output_type": "stream",
     "text": [
      "Week: week 1, Avg Min Temp: 7.0\n",
      "Week: week 2, Avg Min Temp: 6.0\n",
      "Week: week 3, Avg Min Temp: 5.0\n",
      "Week: week 4, Avg Min Temp: 4.0\n"
     ]
    }
   ],
   "source": [
    "#Task: 13\n",
    "december_data = [row for row in data_array if row[0] == \"december\"]\n",
    "week_data = {}\n",
    "\n",
    "for row in december_data:\n",
    "    week = row[1]\n",
    "    min_temp = int(row[3])  \n",
    "    if week in week_data:\n",
    "        week_data[week].append(min_temp)\n",
    "    else:\n",
    "        week_data[week] = [min_temp]\n",
    "\n",
    "for week, temps in week_data.items():\n",
    "    avg_temp = sum(temps) / len(temps)\n",
    "    print(f\"Week: {week}, Avg Min Temp: {avg_temp}\")"
   ]
  },
  {
   "cell_type": "code",
   "execution_count": 11,
   "id": "8c4c9eb4",
   "metadata": {},
   "outputs": [
    {
     "name": "stdout",
     "output_type": "stream",
     "text": [
      "Overall Average Max Temp for Dec and Jan: 22.285714285714285\n"
     ]
    }
   ],
   "source": [
    "# Task: 14\n",
    "dec_jan_data = [row for row in data_array if row[0] in [\"december\", \"january\"]]\n",
    "max_temps = [int(row[4]) for row in dec_jan_data]\n",
    "average_max_temp = sum(max_temps) / len(max_temps)\n",
    "print(\"Overall Average Max Temp for Dec and Jan:\", average_max_temp)"
   ]
  },
  {
   "cell_type": "code",
   "execution_count": 12,
   "id": "5c3cfbd6",
   "metadata": {},
   "outputs": [
    {
     "name": "stdout",
     "output_type": "stream",
     "text": [
      "Least Temp: -2 in january - Week week 3 - Day friday\n"
     ]
    }
   ],
   "source": [
    "# Task: 15\n",
    "min_temp_data = []\n",
    "for row in dec_jan_data:\n",
    "    month, week, day, min_temp, max_temp = row\n",
    "    min_temp_data.append((month, week, day, int(min_temp)))\n",
    "\n",
    "min_temp_data.sort(key=lambda x: x[3])\n",
    "least_temp_month, least_temp_week, least_temp_day, least_temp = min_temp_data[0]\n",
    "print(f\"Least Temp: {least_temp} in {least_temp_month} - Week {least_temp_week} - Day {least_temp_day}\")"
   ]
  },
  {
   "cell_type": "code",
   "execution_count": 13,
   "id": "410a4110",
   "metadata": {},
   "outputs": [
    {
     "name": "stdout",
     "output_type": "stream",
     "text": [
      "Max Temp in February: 26 on Month: february, Week: week 4, Day: sunday\n"
     ]
    }
   ],
   "source": [
    "# Task: 16\n",
    "february_data = [row for row in data_array if row[0] == \"february\"]\n",
    "max_temp_date = None\n",
    "max_temp_value = -float('inf') \n",
    "\n",
    "for row in february_data:\n",
    "    max_temp = int(row[4])  \n",
    "    if max_temp > max_temp_value:\n",
    "        max_temp_value = max_temp\n",
    "        max_temp_date = f\"Month: {row[0]}, Week: {row[1]}, Day: {row[2]}\"\n",
    "\n",
    "print(f\"Max Temp in February: {max_temp_value} on {max_temp_date}\")"
   ]
  },
  {
   "cell_type": "code",
   "execution_count": 14,
   "id": "07821d03",
   "metadata": {},
   "outputs": [
    {
     "name": "stdout",
     "output_type": "stream",
     "text": [
      "Day: wednesday, Max Temp: 25 (Below Avg)\n",
      "Day: sunday, Max Temp: 24 (Below Avg)\n",
      "Day: tuesday, Max Temp: 25 (Below Avg)\n",
      "Day: wednesday, Max Temp: 23 (Below Avg)\n",
      "Day: sunday, Max Temp: 24 (Below Avg)\n",
      "Day: tuesday, Max Temp: 25 (Below Avg)\n",
      "Day: wednesday, Max Temp: 23 (Below Avg)\n",
      "Day: sunday, Max Temp: 22 (Below Avg)\n",
      "Day: monday, Max Temp: 24 (Below Avg)\n",
      "Day: tuesday, Max Temp: 23 (Below Avg)\n",
      "Day: wednesday, Max Temp: 22 (Below Avg)\n",
      "Day: thursday, Max Temp: 25 (Below Avg)\n",
      "Day: sunday, Max Temp: 21 (Below Avg)\n"
     ]
    }
   ],
   "source": [
    "# Task: 17\n",
    "november_data = [row for row in data_array if row[0] == \"november\"]\n",
    "avg_max_temp_november = sum(int(row[4]) for row in november_data) / len(november_data)\n",
    "\n",
    "for row in november_data:\n",
    "    day, max_temp = row[2], int(row[4])\n",
    "    if max_temp < avg_max_temp_november:\n",
    "        print(f\"Day: {day}, Max Temp: {max_temp} (Below Avg)\")"
   ]
  },
  {
   "cell_type": "code",
   "execution_count": 15,
   "id": "17024003",
   "metadata": {},
   "outputs": [
    {
     "name": "stdout",
     "output_type": "stream",
     "text": [
      "[list([['november', 'week 3', 'monday', 11, 26], ['november', 'week 3', 'tuesday', 10, 25], ['november', 'week 3', 'wednesday', 8, 23], ['november', 'week 3', 'thursday', 12, 27], ['november', 'week 3', 'friday', 6, 29], ['november', 'week 3', 'saturday', 7, 28], ['november', 'week 3', 'sunday', 9, 22]])\n",
      " list([['november', 'week 1', 'monday', 13, 27], ['november', 'week 1', 'tuesday', 12, 26], ['november', 'week 1', 'wednesday', 10, 25], ['november', 'week 1', 'thursday', 14, 28], ['november', 'week 1', 'friday', 7, 30], ['november', 'week 1', 'saturday', 8, 29], ['november', 'week 1', 'sunday', 11, 24]])\n",
      " list([['november', 'week 2', 'monday', 12, 26], ['november', 'week 2', 'tuesday', 11, 25], ['november', 'week 2', 'wednesday', 9, 23], ['november', 'week 2', 'thursday', 13, 28], ['november', 'week 2', 'friday', 7, 30], ['november', 'week 2', 'saturday', 8, 29], ['november', 'week 2', 'sunday', 10, 24]])\n",
      " list([['november', 'week 4', 'monday', 10, 24], ['november', 'week 4', 'tuesday', 9, 23], ['november', 'week 4', 'wednesday', 7, 22], ['november', 'week 4', 'thursday', 11, 25], ['november', 'week 4', 'friday', 5, 28], ['november', 'week 4', 'saturday', 6, 27], ['november', 'week 4', 'sunday', 8, 21]])\n",
      " list([['december', 'week 3', 'monday', 7, 22], ['december', 'week 3', 'tuesday', 6, 21], ['december', 'week 3', 'wednesday', 4, 20], ['december', 'week 3', 'thursday', 8, 23], ['december', 'week 3', 'friday', 2, 26], ['december', 'week 3', 'saturday', 3, 25], ['december', 'week 3', 'sunday', 5, 19]])\n",
      " list([['december', 'week 1', 'monday', 9, 22], ['december', 'week 1', 'tuesday', 8, 21], ['december', 'week 1', 'wednesday', 6, 20], ['december', 'week 1', 'thursday', 10, 23], ['december', 'week 1', 'friday', 4, 26], ['december', 'week 1', 'saturday', 5, 25], ['december', 'week 1', 'sunday', 7, 19]])\n",
      " list([['december', 'week 2', 'monday', 8, 22], ['december', 'week 2', 'tuesday', 7, 21], ['december', 'week 2', 'wednesday', 5, 20], ['december', 'week 2', 'thursday', 9, 23], ['december', 'week 2', 'friday', 3, 26], ['december', 'week 2', 'saturday', 4, 25], ['december', 'week 2', 'sunday', 6, 19]])\n",
      " list([['december', 'week 4', 'monday', 6, 22], ['december', 'week 4', 'tuesday', 5, 21], ['december', 'week 4', 'wednesday', 3, 20], ['december', 'week 4', 'thursday', 7, 23], ['december', 'week 4', 'friday', 1, 26], ['december', 'week 4', 'saturday', 2, 25], ['december', 'week 4', 'sunday', 4, 19]])\n",
      " list([['january', 'week 3', 'monday', 3, 22], ['january', 'week 3', 'tuesday', 2, 21], ['january', 'week 3', 'wednesday', 0, 20], ['january', 'week 3', 'thursday', 4, 23], ['january', 'week 3', 'friday', -2, 26], ['january', 'week 3', 'saturaday', 8, 22], ['january', 'week 3', 'sunday', 8, 22]])\n",
      " list([['january', 'week 1', 'monday', 5, 22], ['january', 'week 1', 'tuesday', 4, 21], ['january', 'week 1', 'wednesday', 2, 20], ['january', 'week 1', 'thursday', 6, 23], ['january', 'week 1', 'friday', 0, 26], ['january', 'week 1', 'saturday', 1, 25], ['january', 'week 1', 'sunday', 3, 19]])\n",
      " list([['january', 'week 2', 'monday', 4, 22], ['january', 'week 2', 'tuesday', 3, 21], ['january', 'week 2', 'wednesday', 1, 20], ['january', 'week 2', 'thursday', 5, 23], ['january', 'week 2', 'friday', -1, 26], ['january', 'week 2', 'saturday', 0, 25], ['january', 'week 2', 'sunday', 2, 19]])\n",
      " list([])\n",
      " list([['february', 'week 3', 'monday', 10, 20], ['february', 'week 3', 'tuesday', 5, 18], ['february', 'week 3', 'wednesday', 9, 20], ['february', 'week 3', 'thursday', 11, 23], ['february', 'week 3', 'friday', 10, 18], ['february', 'week 3', 'saturday', 6, 16], ['february', 'week 3', 'sunday', 8, 18]])\n",
      " list([['february', 'week 1', 'monday', 11, 19], ['february', 'week 1', 'tuesday', 11, 19], ['february', 'week 1', 'wednesday', 11, 19], ['february', 'week 1', 'thursday', 10, 18], ['february', 'week 1', 'friday', 7, 20], ['february', 'week 1', 'saturday', 8, 21], ['february', 'week 1', 'sunday', 9, 18]])\n",
      " list([['february', 'week 2', 'monday', 11, 20], ['february', 'week 2', 'tuesday', 14, 22], ['february', 'week 2', 'wednesday', 11, 21], ['february', 'week 2', 'thursday', 12, 18], ['february', 'week 2', 'friday', 10, 17], ['february', 'week 2', 'saturday', 8, 19], ['february', 'week 2', 'sunday', 17, 22]])\n",
      " list([['february', 'week 4', 'monday', 3, 19], ['february', 'week 4', 'tuesday', 7, 18], ['february', 'week 4', 'wednesday', 14, 23], ['february', 'week 4', 'thursday', 12, 20], ['february', 'week 4', 'friday', 4, 13], ['february', 'week 4', 'saturday', 11, 25], ['february', 'week 4', 'sunday', 15, 26]])]\n"
     ]
    },
    {
     "name": "stderr",
     "output_type": "stream",
     "text": [
      "C:\\Users\\sahga\\AppData\\Local\\Temp\\ipykernel_2564\\2483067296.py:16: VisibleDeprecationWarning: Creating an ndarray from ragged nested sequences (which is a list-or-tuple of lists-or-tuples-or ndarrays with different lengths or shapes) is deprecated. If you meant to do this, you must specify 'dtype=object' when creating the ndarray.\n",
      "  final_array = np.array(organized_data)\n"
     ]
    }
   ],
   "source": [
    "# Task:18\n",
    "\n",
    "months = [\"november\", \"december\", \"january\", \"february\"]\n",
    "weeks = list(set(row[1] for row in data[1:]))\n",
    "\n",
    "organized_data = []\n",
    "\n",
    "for month in months:\n",
    "    month_data = [row for row in data[1:] if row[0] == month]\n",
    "    organized_weeks = []\n",
    "    for week in weeks:\n",
    "        week_data = [row for row in month_data if row[1] == week]\n",
    "        organized_weeks.append(week_data)\n",
    "    organized_data.extend(organized_weeks)\n",
    "\n",
    "final_array = np.array(organized_data)\n",
    "print(final_array)"
   ]
  },
  {
   "cell_type": "code",
   "execution_count": 16,
   "id": "6cf8782f",
   "metadata": {},
   "outputs": [
    {
     "name": "stdout",
     "output_type": "stream",
     "text": [
      "[['november' 'week 1' 'monday' '55.4' '80.6']\n",
      " ['november' 'week 1' 'tuesday' '53.6' '78.8']\n",
      " ['november' 'week 1' 'wednesday' '50.0' '77.0']\n",
      " ['november' 'week 1' 'thursday' '57.2' '82.4']\n",
      " ['november' 'week 1' 'friday' '44.6' '86.0']\n",
      " ['november' 'week 1' 'saturday' '46.4' '84.2']\n",
      " ['november' 'week 1' 'sunday' '51.8' '75.2']\n",
      " ['november' 'week 2' 'monday' '53.6' '78.8']\n",
      " ['november' 'week 2' 'tuesday' '51.8' '77.0']\n",
      " ['november' 'week 2' 'wednesday' '48.2' '73.4']\n",
      " ['november' 'week 2' 'thursday' '55.4' '82.4']\n",
      " ['november' 'week 2' 'friday' '44.6' '86.0']\n",
      " ['november' 'week 2' 'saturday' '46.4' '84.2']\n",
      " ['november' 'week 2' 'sunday' '50.0' '75.2']\n",
      " ['november' 'week 3' 'monday' '51.8' '78.8']\n",
      " ['november' 'week 3' 'tuesday' '50.0' '77.0']\n",
      " ['november' 'week 3' 'wednesday' '46.4' '73.4']\n",
      " ['november' 'week 3' 'thursday' '53.6' '80.6']\n",
      " ['november' 'week 3' 'friday' '42.8' '84.2']\n",
      " ['november' 'week 3' 'saturday' '44.6' '82.4']\n",
      " ['november' 'week 3' 'sunday' '48.2' '71.6']\n",
      " ['november' 'week 4' 'monday' '50.0' '75.2']\n",
      " ['november' 'week 4' 'tuesday' '48.2' '73.4']\n",
      " ['november' 'week 4' 'wednesday' '44.6' '71.6']\n",
      " ['november' 'week 4' 'thursday' '51.8' '77.0']\n",
      " ['november' 'week 4' 'friday' '41.0' '82.4']\n",
      " ['november' 'week 4' 'saturday' '42.8' '80.6']\n",
      " ['november' 'week 4' 'sunday' '46.4' '69.8']\n",
      " ['december' 'week 1' 'monday' '48.2' '71.6']\n",
      " ['december' 'week 1' 'tuesday' '46.4' '69.8']\n",
      " ['december' 'week 1' 'wednesday' '42.8' '68.0']\n",
      " ['december' 'week 1' 'thursday' '50.0' '73.4']\n",
      " ['december' 'week 1' 'friday' '39.2' '78.8']\n",
      " ['december' 'week 1' 'saturday' '41.0' '77.0']\n",
      " ['december' 'week 1' 'sunday' '44.6' '66.2']\n",
      " ['december' 'week 2' 'monday' '46.4' '71.6']\n",
      " ['december' 'week 2' 'tuesday' '44.6' '69.8']\n",
      " ['december' 'week 2' 'wednesday' '41.0' '68.0']\n",
      " ['december' 'week 2' 'thursday' '48.2' '73.4']\n",
      " ['december' 'week 2' 'friday' '37.4' '78.8']\n",
      " ['december' 'week 2' 'saturday' '39.2' '77.0']\n",
      " ['december' 'week 2' 'sunday' '42.8' '66.2']\n",
      " ['december' 'week 3' 'monday' '44.6' '71.6']\n",
      " ['december' 'week 3' 'tuesday' '42.8' '69.8']\n",
      " ['december' 'week 3' 'wednesday' '39.2' '68.0']\n",
      " ['december' 'week 3' 'thursday' '46.4' '73.4']\n",
      " ['december' 'week 3' 'friday' '35.6' '78.8']\n",
      " ['december' 'week 3' 'saturday' '37.4' '77.0']\n",
      " ['december' 'week 3' 'sunday' '41.0' '66.2']\n",
      " ['december' 'week 4' 'monday' '42.8' '71.6']\n",
      " ['december' 'week 4' 'tuesday' '41.0' '69.8']\n",
      " ['december' 'week 4' 'wednesday' '37.4' '68.0']\n",
      " ['december' 'week 4' 'thursday' '44.6' '73.4']\n",
      " ['december' 'week 4' 'friday' '33.8' '78.8']\n",
      " ['december' 'week 4' 'saturday' '35.6' '77.0']\n",
      " ['december' 'week 4' 'sunday' '39.2' '66.2']\n",
      " ['january' 'week 1' 'monday' '41.0' '71.6']\n",
      " ['january' 'week 1' 'tuesday' '39.2' '69.8']\n",
      " ['january' 'week 1' 'wednesday' '35.6' '68.0']\n",
      " ['january' 'week 1' 'thursday' '42.8' '73.4']\n",
      " ['january' 'week 1' 'friday' '32.0' '78.8']\n",
      " ['january' 'week 1' 'saturday' '33.8' '77.0']\n",
      " ['january' 'week 1' 'sunday' '37.4' '66.2']\n",
      " ['january' 'week 2' 'monday' '39.2' '71.6']\n",
      " ['january' 'week 2' 'tuesday' '37.4' '69.8']\n",
      " ['january' 'week 2' 'wednesday' '33.8' '68.0']\n",
      " ['january' 'week 2' 'thursday' '41.0' '73.4']\n",
      " ['january' 'week 2' 'friday' '30.2' '78.8']\n",
      " ['january' 'week 2' 'saturday' '32.0' '77.0']\n",
      " ['january' 'week 2' 'sunday' '35.6' '66.2']\n",
      " ['january' 'week 3' 'monday' '37.4' '71.6']\n",
      " ['january' 'week 3' 'tuesday' '35.6' '69.8']\n",
      " ['january' 'week 3' 'wednesday' '32.0' '68.0']\n",
      " ['january' 'week 3' 'thursday' '39.2' '73.4']\n",
      " ['january' 'week 3' 'friday' '28.4' '78.8']\n",
      " ['january' 'week 3' 'saturaday' '46.4' '71.6']\n",
      " ['january' 'week 3' 'sunday' '46.4' '71.6']\n",
      " ['february' 'week 1' 'monday' '51.8' '66.2']\n",
      " ['february' 'week 1' 'tuesday' '51.8' '66.2']\n",
      " ['february' 'week 1' 'wednesday' '51.8' '66.2']\n",
      " ['february' 'week 1' 'thursday' '50.0' '64.4']\n",
      " ['february' 'week 1' 'friday' '44.6' '68.0']\n",
      " ['february' 'week 1' 'saturday' '46.4' '69.8']\n",
      " ['february' 'week 1' 'sunday' '48.2' '64.4']\n",
      " ['february' 'week 2' 'monday' '51.8' '68.0']\n",
      " ['february' 'week 2' 'tuesday' '57.2' '71.6']\n",
      " ['february' 'week 2' 'wednesday' '51.8' '69.8']\n",
      " ['february' 'week 2' 'thursday' '53.6' '64.4']\n",
      " ['february' 'week 2' 'friday' '50.0' '62.6']\n",
      " ['february' 'week 2' 'saturday' '46.4' '66.2']\n",
      " ['february' 'week 2' 'sunday' '62.6' '71.6']\n",
      " ['february' 'week 3' 'monday' '50.0' '68.0']\n",
      " ['february' 'week 3' 'tuesday' '41.0' '64.4']\n",
      " ['february' 'week 3' 'wednesday' '48.2' '68.0']\n",
      " ['february' 'week 3' 'thursday' '51.8' '73.4']\n",
      " ['february' 'week 3' 'friday' '50.0' '64.4']\n",
      " ['february' 'week 3' 'saturday' '42.8' '60.8']\n",
      " ['february' 'week 3' 'sunday' '46.4' '64.4']\n",
      " ['february' 'week 4' 'monday' '37.4' '66.2']\n",
      " ['february' 'week 4' 'tuesday' '44.6' '64.4']\n",
      " ['february' 'week 4' 'wednesday' '57.2' '73.4']\n",
      " ['february' 'week 4' 'thursday' '53.6' '68.0']\n",
      " ['february' 'week 4' 'friday' '39.2' '55.4']\n",
      " ['february' 'week 4' 'saturday' '51.8' '77.0']\n",
      " ['february' 'week 4' 'sunday' '59.0' '78.8']]\n"
     ]
    }
   ],
   "source": [
    "# Task: 19\n",
    "fahrenheit_data = []\n",
    "for row in data_array:\n",
    "    celsius_to_fahrenheit = lambda c: (c * 9/5) + 32\n",
    "    fahrenheit_data.append([\n",
    "        row[0], row[1], row[2],\n",
    "        celsius_to_fahrenheit(int(row[3])), celsius_to_fahrenheit(int(row[4]))\n",
    "    ])\n",
    "fahrenheit_array = np.array(fahrenheit_data)\n",
    "print(fahrenheit_array)"
   ]
  },
  {
   "cell_type": "code",
   "execution_count": 17,
   "id": "78aa82e2",
   "metadata": {},
   "outputs": [
    {
     "name": "stdout",
     "output_type": "stream",
     "text": [
      "Week: week 1, Average Temp: 14.642857142857142\n",
      "Week: week 2, Average Temp: 14.142857142857142\n",
      "Week: week 3, Average Temp: 13.642857142857142\n",
      "Week: week 4, Average Temp: 13.142857142857142\n"
     ]
    }
   ],
   "source": [
    "# Task: 20\n",
    "week_avg_temps = {}\n",
    "\n",
    "for row in data:\n",
    "    month, week, _, min_temp, max_temp = row\n",
    "    if month == \"december\":\n",
    "        avg_temp = (min_temp + max_temp) / 2\n",
    "        if week in week_avg_temps:\n",
    "            week_avg_temps[week].append(avg_temp)\n",
    "        else:\n",
    "            week_avg_temps[week] = [avg_temp]\n",
    "\n",
    "for week, temps in week_avg_temps.items():\n",
    "    avg_week_temp = sum(temps) / len(temps)\n",
    "    week_avg_temps[week] = avg_week_temp\n",
    "\n",
    "sorted_weeks = sorted(week_avg_temps.keys(), key=lambda x: week_avg_temps[x], reverse=True)\n",
    "\n",
    "for week in sorted_weeks:\n",
    "    print(f\"Week: {week}, Average Temp: {week_avg_temps[week]}\")"
   ]
  },
  {
   "cell_type": "code",
   "execution_count": 18,
   "id": "85c6260c",
   "metadata": {},
   "outputs": [
    {
     "name": "stdout",
     "output_type": "stream",
     "text": [
      "Day: monday, Overall Avg Temp: 15.266666666666667\n",
      "Day: tuesday, Overall Avg Temp: 14.566666666666666\n",
      "Day: wednesday, Overall Avg Temp: 13.866666666666667\n"
     ]
    }
   ],
   "source": [
    "#Task: 21\n",
    "\n",
    "first_three_avg_temps = {\n",
    "    \"monday\": [],\n",
    "    \"tuesday\": [],\n",
    "    \"wednesday\": []\n",
    "}\n",
    "\n",
    "overall_avg_temps = {}\n",
    "\n",
    "for row in data[1:]: \n",
    "    month, day, min_temp, max_temp = row[0], row[2], int(row[3]), int(row[4])  \n",
    "    avg_temp = (min_temp + max_temp) / 2\n",
    "    \n",
    "    if month in overall_avg_temps:\n",
    "        overall_avg_temps[month].append(avg_temp)\n",
    "    else:\n",
    "        overall_avg_temps[month] = [avg_temp]\n",
    "    \n",
    "    if day in first_three_avg_temps:\n",
    "        first_three_avg_temps[day].append(avg_temp)\n",
    "\n",
    "for day, temps in first_three_avg_temps.items():\n",
    "    overall_avg_temp = sum(temps) / len(temps)\n",
    "    first_three_avg_temps[day] = overall_avg_temp\n",
    "\n",
    "sorted_first_three_avg_temps = dict(sorted(first_three_avg_temps.items(), key=lambda x: x[1], reverse=True))\n",
    "\n",
    "for day, avg_temp in sorted_first_three_avg_temps.items():\n",
    "    print(f\"Day: {day}, Overall Avg Temp: {avg_temp}\")"
   ]
  },
  {
   "cell_type": "code",
   "execution_count": 19,
   "id": "4ea4f34d",
   "metadata": {},
   "outputs": [
    {
     "name": "stdout",
     "output_type": "stream",
     "text": [
      "[14 14 15 14 23 21 13 14 14 14 15 23 21 14 15 15 15 15 23 21 13 14 14 15\n",
      " 14 23 21 13 13 13 14 13 22 20 12 14 14 15 14 23 21 13 15 15 16 15 24 22\n",
      " 14 16 16 17 16 25 23 15 17 17 18 17 26 24 16 18 18 19 18 27 25 17 19 19\n",
      " 20 19 28 14 14  8  8  8  8 13 13  9  9  8 10  6  7 11  5 10 13 11 12  8\n",
      " 10 10 16 11  9  8  9 14 11]\n"
     ]
    }
   ],
   "source": [
    "#Task: 22\n",
    "temperature_differences = []\n",
    "\n",
    "for row in data[1:]: \n",
    "    month, _, _, min_temp, max_temp = row\n",
    "    temperature_diff = int(max_temp) - int(min_temp)\n",
    "    temperature_differences.append(temperature_diff)\n",
    "    \n",
    "temperature_diff_array = np.array(temperature_differences)\n",
    "\n",
    "# Print the array\n",
    "print(temperature_diff_array)\n"
   ]
  },
  {
   "cell_type": "code",
   "execution_count": 20,
   "id": "ad243541",
   "metadata": {},
   "outputs": [
    {
     "name": "stdout",
     "output_type": "stream",
     "text": [
      "December: [1 1 1 3 3 1 6 3 1 1 3 3 1 6 3 1 1 3 3 1 6 3 1 1 3 3 1 6]\n",
      "January: [3 1 1 3 3 1 6 3 1 1 3 3 1 6 3 1 1 3 3 4 0]\n",
      "February: [ 3  0  0  1  2  1  3  2  2  1  3  1  2  3  2  2  2  3  5  2  2  1  1  5\n",
      "  3  7 12  1]\n"
     ]
    }
   ],
   "source": [
    "#Task: 23\n",
    "\n",
    "temperature_diffs_by_month = {\n",
    "    \"december\": [],\n",
    "    \"january\": [],\n",
    "    \"february\": []\n",
    "}\n",
    "\n",
    "for i in range(1, len(data)): \n",
    "    month, _, _, min_temp, max_temp = data[i]\n",
    "    max_temp = int(max_temp)  \n",
    "\n",
    "    if month == \"december\":\n",
    "        temperature_diff = abs(max_temp - prev_max_temp) if i > 1 else None\n",
    "        temperature_diffs_by_month[\"december\"].append(temperature_diff)\n",
    "    elif month == \"january\":\n",
    "        temperature_diff = abs(max_temp - prev_max_temp) if i > 1 else None\n",
    "        temperature_diffs_by_month[\"january\"].append(temperature_diff)\n",
    "    elif month == \"february\":\n",
    "        temperature_diff = abs(max_temp - prev_max_temp) if i > 1 else None\n",
    "        temperature_diffs_by_month[\"february\"].append(temperature_diff)\n",
    "    \n",
    "    prev_max_temp = max_temp\n",
    "\n",
    "december_diffs = np.array(temperature_diffs_by_month[\"december\"])\n",
    "january_diffs = np.array(temperature_diffs_by_month[\"january\"])\n",
    "february_diffs = np.array(temperature_diffs_by_month[\"february\"])\n",
    "\n",
    "print(\"December:\", december_diffs)\n",
    "print(\"January:\", january_diffs)\n",
    "print(\"February:\", february_diffs)"
   ]
  },
  {
   "cell_type": "code",
   "execution_count": 21,
   "id": "fed2d4b2",
   "metadata": {},
   "outputs": [
    {
     "name": "stdout",
     "output_type": "stream",
     "text": [
      "December: [1 1 2 4 6 1 2 1 1 2 4 6 1 2 1 1 2 4 6 1 2 1 1 2 4 6 1 2]\n",
      "January: [ 1  1  2  4  6  1  2  1  1  2  4  6  1  2  1  1  2  4  6 10  0]\n",
      "February: [3 0 0 1 3 1 1 2 3 3 1 2 2 9 7 5 4 2 1 4 2 5 4 7 2 8 7 4]\n"
     ]
    }
   ],
   "source": [
    "#Task: 24\n",
    "\n",
    "min_temperature_diffs_by_month = {\n",
    "    \"december\": [],\n",
    "    \"january\": [],\n",
    "    \"february\": []\n",
    "}\n",
    "\n",
    "for i in range(1, len(data)):  \n",
    "    month, _, _, min_temp, _ = data[i]\n",
    "    min_temp = int(min_temp)  \n",
    "    \n",
    "    if month == \"december\":\n",
    "        temperature_diff = abs(min_temp - prev_min_temp) if i > 1 else None\n",
    "        min_temperature_diffs_by_month[\"december\"].append(temperature_diff)\n",
    "    elif month == \"january\":\n",
    "        temperature_diff = abs(min_temp - prev_min_temp) if i > 1 else None\n",
    "        min_temperature_diffs_by_month[\"january\"].append(temperature_diff)\n",
    "    elif month == \"february\":\n",
    "        temperature_diff = abs(min_temp - prev_min_temp) if i > 1 else None\n",
    "        min_temperature_diffs_by_month[\"february\"].append(temperature_diff)\n",
    "    \n",
    "    prev_min_temp = min_temp\n",
    "\n",
    "december_min_diffs = np.array(min_temperature_diffs_by_month[\"december\"])\n",
    "january_min_diffs = np.array(min_temperature_diffs_by_month[\"january\"])\n",
    "february_min_diffs = np.array(min_temperature_diffs_by_month[\"february\"])\n",
    "\n",
    "print(\"December:\", december_min_diffs)\n",
    "print(\"January:\", january_min_diffs)\n",
    "print(\"February:\", february_min_diffs)"
   ]
  },
  {
   "cell_type": "code",
   "execution_count": 22,
   "id": "c9f1c8a2",
   "metadata": {},
   "outputs": [
    {
     "name": "stdout",
     "output_type": "stream",
     "text": [
      "Winter Temperature Differences: [ 1  1  2  4  6  1  2  1  1  2  4  6  1  2  1  1  2  4  6  1  2  1  1  2\n",
      "  4  6  1  2  1  1  2  4  6  1  2  1  1  2  4  6  1  2  1  1  2  4  6 10\n",
      "  0  3  0  0  1  3  1  1  2  3  3  1  2  2  9  7  5  4  2  1  4  2  5  4\n",
      "  7  2  8  7  4]\n"
     ]
    }
   ],
   "source": [
    "#Task: 25\n",
    "\n",
    "december_diffs = np.array(min_temperature_diffs_by_month[\"december\"])\n",
    "january_diffs = np.array(min_temperature_diffs_by_month[\"january\"])\n",
    "february_diffs = np.array(min_temperature_diffs_by_month[\"february\"])\n",
    "\n",
    "winter_temperature_diffs = np.concatenate((december_diffs, january_diffs, february_diffs))\n",
    "\n",
    "print(\"Winter Temperature Differences:\", winter_temperature_diffs)"
   ]
  }
 ],
 "metadata": {
  "kernelspec": {
   "display_name": "Python 3 (ipykernel)",
   "language": "python",
   "name": "python3"
  },
  "language_info": {
   "codemirror_mode": {
    "name": "ipython",
    "version": 3
   },
   "file_extension": ".py",
   "mimetype": "text/x-python",
   "name": "python",
   "nbconvert_exporter": "python",
   "pygments_lexer": "ipython3",
   "version": "3.9.13"
  }
 },
 "nbformat": 4,
 "nbformat_minor": 5
}
